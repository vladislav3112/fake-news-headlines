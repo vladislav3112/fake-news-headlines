{
 "cells": [
  {
   "cell_type": "code",
   "execution_count": 46,
   "metadata": {},
   "outputs": [],
   "source": [
    "from sklearn.model_selection import GridSearchCV\n",
    "from sklearn.model_selection import cross_val_score\n",
    "from sklearn.metrics import  f1_score\n",
    "from sklearn.model_selection import train_test_split\n",
    "from sklearn.feature_extraction.text import TfidfVectorizer,CountVectorizer\n",
    "from sklearn.ensemble import VotingClassifier\n",
    "from sklearn import naive_bayes, svm\n",
    "import pandas as pd\n",
    "import numpy as np\n",
    "import joblib\n",
    "import matplotlib.pyplot as plt\n",
    "import seaborn as sns"
   ]
  },
  {
   "cell_type": "markdown",
   "metadata": {},
   "source": [
    "Pipeline   \n",
    "1. Data loading\n",
    "2. Preprocessing and encoding\n",
    "3. Using model for classification (NaiveBayes and SVM)\n",
    "4. Saving results"
   ]
  },
  {
   "cell_type": "markdown",
   "metadata": {},
   "source": [
    "### Load data"
   ]
  },
  {
   "cell_type": "code",
   "execution_count": 72,
   "metadata": {},
   "outputs": [
    {
     "name": "stdout",
     "output_type": "stream",
     "text": [
      "                                               title  is_fake\n",
      "0  Москвичу Владимиру Клутину пришёл счёт за вмеш...        1\n",
      "1  Агент Кокорина назвал езду по встречке житейск...        0\n",
      "2  Госдума рассмотрит возможность введения секрет...        1\n",
      "3  ФАС заблокировала поставку скоростных трамваев...        0\n",
      "4  Против Навального завели дело о недоносительст...        1\n",
      "0.5\n"
     ]
    }
   ],
   "source": [
    "data =  pd.read_csv(\"dataset/train.tsv\",sep='\\t',header=0)\n",
    "print(data.head())\n",
    "X = data['title']\n",
    "y = data['is_fake'].array\n",
    "\n",
    "#make sure that there is no class imbalance\n",
    "print(len(y[y==0])/len(y))"
   ]
  },
  {
   "cell_type": "markdown",
   "metadata": {},
   "source": [
    "###  Preprocessing  (lemmatization and stop words removal)"
   ]
  },
  {
   "cell_type": "code",
   "execution_count": 48,
   "metadata": {},
   "outputs": [
    {
     "name": "stderr",
     "output_type": "stream",
     "text": [
      "[nltk_data] Downloading package stopwords to\n",
      "[nltk_data]     C:\\Users\\dyush\\AppData\\Roaming\\nltk_data...\n",
      "[nltk_data]   Package stopwords is already up-to-date!\n"
     ]
    }
   ],
   "source": [
    "import nltk\n",
    "nltk.download(\"stopwords\")\n",
    "#--------#\n",
    "\n",
    "from nltk.corpus import stopwords\n",
    "from pymystem3 import Mystem\n",
    "from string import punctuation\n",
    "\n",
    "#Create lemmatizer and stopwords list\n",
    "mystem = Mystem() \n",
    "russian_stopwords = stopwords.words(\"russian\")\n",
    "\n",
    "#Preprocess function\n",
    "def preprocess_text(input_text):\n",
    "    tokens = mystem.lemmatize(input_text.lower())\n",
    "    tokens = [token for token in tokens if token not in russian_stopwords\\\n",
    "              and token != \" \" \\\n",
    "              and token.strip() not in punctuation\n",
    "              and token.find('«') != -1\n",
    "              and token.find('»') != -1]\n",
    "    \n",
    "    input_text = \" \".join(tokens)\n",
    "    \n",
    "    return input_text\n",
    "\n",
    "def preprocess_text_with_stopwords(input_text):\n",
    "    tokens = mystem.lemmatize(input_text.lower())\n",
    "    tokens = [token for token in tokens if token != \" \" \\\n",
    "              and token.strip() not in punctuation]\n",
    "    \n",
    "    input_text = \" \".join(tokens)\n",
    "    \n",
    "    return input_text"
   ]
  },
  {
   "cell_type": "code",
   "execution_count": 49,
   "metadata": {},
   "outputs": [
    {
     "data": {
      "text/plain": [
       "'« пачка гречка за прививка »:  минздрав объявлять о новый акция для пенсионер'"
      ]
     },
     "execution_count": 49,
     "metadata": {},
     "output_type": "execute_result"
    }
   ],
   "source": [
    "preprocess_text_with_stopwords(\"«Пачка гречки за прививку»: Минздрав объявил о новой акции для пенсионеров\")"
   ]
  },
  {
   "cell_type": "markdown",
   "metadata": {},
   "source": [
    "#### Stemming"
   ]
  },
  {
   "cell_type": "code",
   "execution_count": 50,
   "metadata": {},
   "outputs": [],
   "source": [
    "def preprocess__stem_text(input_text):\n",
    "    from nltk.stem.snowball import SnowballStemmer \n",
    "    stemmer = SnowballStemmer(\"russian\") \n",
    "    tokens = stemmer.stem(input_text.lower())\n",
    "    stemmed_text = \"\".join(tokens)\n",
    "    \n",
    "    return stemmed_text"
   ]
  },
  {
   "cell_type": "code",
   "execution_count": 51,
   "metadata": {},
   "outputs": [
    {
     "name": "stdout",
     "output_type": "stream",
     "text": [
      "Москвичу Владимиру Клутину пришёл счёт за вмешательство в американские выборы\n",
      "москвич владимир клутин приходить счет за вмешательство в американский выборы\n"
     ]
    }
   ],
   "source": [
    "X_processed = X.apply(preprocess_text_with_stopwords)\n",
    "print(X[0])\n",
    "print(X_processed[0])\n",
    "df = pd.DataFrame()\n",
    "df['title'] = X_processed\n",
    "df.to_csv('processed text with stop words.csv')"
   ]
  },
  {
   "cell_type": "code",
   "execution_count": 52,
   "metadata": {},
   "outputs": [
    {
     "name": "stdout",
     "output_type": "stream",
     "text": [
      "москвич владимир клутин приходить счет за вмешательство в американский выборы\n",
      "москвич владимир клутин приходить счет за вмешательство в американский выбор\n"
     ]
    }
   ],
   "source": [
    "df = pd.read_csv('processed text with stop words.csv')\n",
    "X = df['title']\n",
    "X_processed_stemmed = X.apply(preprocess__stem_text)\n",
    "print(X[0])\n",
    "print(X_processed_stemmed[0])\n",
    "df = pd.DataFrame()\n",
    "df['title'] = X_processed_stemmed\n",
    "df.to_csv('processed and stemmed with stop words.csv')"
   ]
  },
  {
   "cell_type": "markdown",
   "metadata": {},
   "source": [
    "### Using only lemmatization without stop words removal show better f1-score results, so I will use this option"
   ]
  },
  {
   "cell_type": "code",
   "execution_count": 73,
   "metadata": {},
   "outputs": [],
   "source": [
    "df = pd.read_csv('processed text with stop words.csv')\n",
    "X = df['title']"
   ]
  },
  {
   "cell_type": "markdown",
   "metadata": {},
   "source": [
    "### Train - test split    "
   ]
  },
  {
   "cell_type": "code",
   "execution_count": 156,
   "metadata": {},
   "outputs": [],
   "source": [
    "X_raw_train, X_raw_test, y_train, y_test = train_test_split(X,y, test_size=0.2, random_state=0)"
   ]
  },
  {
   "cell_type": "markdown",
   "metadata": {},
   "source": [
    "###  Count encoding (shows better f1 score on voting classifier)"
   ]
  },
  {
   "cell_type": "code",
   "execution_count": 157,
   "metadata": {},
   "outputs": [
    {
     "name": "stdout",
     "output_type": "stream",
     "text": [
      "['00' '02м' '08м' ... 'яценюк' 'яшин' 'ящик']\n"
     ]
    }
   ],
   "source": [
    "vectorizer = CountVectorizer() # TfidfVectorizer - another option\n",
    "X_train = vectorizer.fit_transform(X_raw_train)\n",
    "feature_names = vectorizer.get_feature_names_out()\n",
    "print(feature_names)\n",
    "X_test = vectorizer.transform(X_raw_test)"
   ]
  },
  {
   "cell_type": "markdown",
   "metadata": {},
   "source": [
    "ngram ranges (2,2) (1,2) shows worse results so will be used default param value"
   ]
  },
  {
   "cell_type": "markdown",
   "metadata": {},
   "source": [
    "## 1. Support Vector Machine:"
   ]
  },
  {
   "cell_type": "code",
   "execution_count": 162,
   "metadata": {},
   "outputs": [
    {
     "name": "stdout",
     "output_type": "stream",
     "text": [
      "Fitting 3 folds for each of 72 candidates, totalling 216 fits\n",
      "[CV 1/3] END C=1.0, degree=3, gamma=scale, kernel=linear;, score=0.794 total time=   4.8s\n",
      "[CV 2/3] END C=1.0, degree=3, gamma=scale, kernel=linear;, score=0.827 total time=   4.8s\n",
      "[CV 3/3] END C=1.0, degree=3, gamma=scale, kernel=linear;, score=0.827 total time=   4.5s\n",
      "[CV 1/3] END C=1.0, degree=3, gamma=scale, kernel=poly;, score=0.163 total time=   5.1s\n",
      "[CV 2/3] END C=1.0, degree=3, gamma=scale, kernel=poly;, score=0.149 total time=   5.1s\n",
      "[CV 3/3] END C=1.0, degree=3, gamma=scale, kernel=poly;, score=0.141 total time=   5.0s\n",
      "[CV 1/3] END C=1.0, degree=3, gamma=scale, kernel=rbf;, score=0.831 total time=   4.5s\n",
      "[CV 2/3] END C=1.0, degree=3, gamma=scale, kernel=rbf;, score=0.838 total time=   4.3s\n",
      "[CV 3/3] END C=1.0, degree=3, gamma=scale, kernel=rbf;, score=0.848 total time=   4.4s\n",
      "[CV 1/3] END C=1.0, degree=3, gamma=scale, kernel=sigmoid;, score=0.801 total time=   3.4s\n",
      "[CV 2/3] END C=1.0, degree=3, gamma=scale, kernel=sigmoid;, score=0.824 total time=   3.6s\n",
      "[CV 3/3] END C=1.0, degree=3, gamma=scale, kernel=sigmoid;, score=0.834 total time=   3.6s\n",
      "[CV 1/3] END C=1.0, degree=3, gamma=auto, kernel=linear;, score=0.794 total time=   4.3s\n",
      "[CV 2/3] END C=1.0, degree=3, gamma=auto, kernel=linear;, score=0.827 total time=   4.4s\n",
      "[CV 3/3] END C=1.0, degree=3, gamma=auto, kernel=linear;, score=0.827 total time=   4.4s\n",
      "[CV 1/3] END C=1.0, degree=3, gamma=auto, kernel=poly;, score=0.000 total time=   4.3s\n",
      "[CV 2/3] END C=1.0, degree=3, gamma=auto, kernel=poly;, score=0.000 total time=   4.3s\n",
      "[CV 3/3] END C=1.0, degree=3, gamma=auto, kernel=poly;, score=0.000 total time=   4.2s\n",
      "[CV 1/3] END C=1.0, degree=3, gamma=auto, kernel=rbf;, score=0.000 total time=   4.8s\n",
      "[CV 2/3] END C=1.0, degree=3, gamma=auto, kernel=rbf;, score=0.000 total time=   4.7s\n",
      "[CV 3/3] END C=1.0, degree=3, gamma=auto, kernel=rbf;, score=0.000 total time=   4.8s\n",
      "[CV 1/3] END C=1.0, degree=3, gamma=auto, kernel=sigmoid;, score=0.000 total time=   4.6s\n",
      "[CV 2/3] END C=1.0, degree=3, gamma=auto, kernel=sigmoid;, score=0.000 total time=   4.4s\n",
      "[CV 3/3] END C=1.0, degree=3, gamma=auto, kernel=sigmoid;, score=0.000 total time=   4.6s\n",
      "[CV 1/3] END C=1.0, degree=5, gamma=scale, kernel=linear;, score=0.794 total time=   4.4s\n",
      "[CV 2/3] END C=1.0, degree=5, gamma=scale, kernel=linear;, score=0.827 total time=   4.5s\n",
      "[CV 3/3] END C=1.0, degree=5, gamma=scale, kernel=linear;, score=0.827 total time=   4.4s\n",
      "[CV 1/3] END C=1.0, degree=5, gamma=scale, kernel=poly;, score=0.003 total time=   5.2s\n",
      "[CV 2/3] END C=1.0, degree=5, gamma=scale, kernel=poly;, score=0.000 total time=   5.6s\n",
      "[CV 3/3] END C=1.0, degree=5, gamma=scale, kernel=poly;, score=0.003 total time=   6.7s\n",
      "[CV 1/3] END C=1.0, degree=5, gamma=scale, kernel=rbf;, score=0.831 total time=   5.2s\n",
      "[CV 2/3] END C=1.0, degree=5, gamma=scale, kernel=rbf;, score=0.838 total time=   6.8s\n",
      "[CV 3/3] END C=1.0, degree=5, gamma=scale, kernel=rbf;, score=0.848 total time=   4.4s\n",
      "[CV 1/3] END C=1.0, degree=5, gamma=scale, kernel=sigmoid;, score=0.801 total time=   2.9s\n",
      "[CV 2/3] END C=1.0, degree=5, gamma=scale, kernel=sigmoid;, score=0.824 total time=   2.9s\n",
      "[CV 3/3] END C=1.0, degree=5, gamma=scale, kernel=sigmoid;, score=0.834 total time=   3.0s\n",
      "[CV 1/3] END C=1.0, degree=5, gamma=auto, kernel=linear;, score=0.794 total time=   3.7s\n",
      "[CV 2/3] END C=1.0, degree=5, gamma=auto, kernel=linear;, score=0.827 total time=   4.4s\n",
      "[CV 3/3] END C=1.0, degree=5, gamma=auto, kernel=linear;, score=0.827 total time=   4.1s\n",
      "[CV 1/3] END C=1.0, degree=5, gamma=auto, kernel=poly;, score=0.000 total time=   5.2s\n",
      "[CV 2/3] END C=1.0, degree=5, gamma=auto, kernel=poly;, score=0.000 total time=   5.3s\n",
      "[CV 3/3] END C=1.0, degree=5, gamma=auto, kernel=poly;, score=0.000 total time=   4.9s\n",
      "[CV 1/3] END C=1.0, degree=5, gamma=auto, kernel=rbf;, score=0.000 total time=   5.1s\n",
      "[CV 2/3] END C=1.0, degree=5, gamma=auto, kernel=rbf;, score=0.000 total time=   4.8s\n",
      "[CV 3/3] END C=1.0, degree=5, gamma=auto, kernel=rbf;, score=0.000 total time=   4.8s\n",
      "[CV 1/3] END C=1.0, degree=5, gamma=auto, kernel=sigmoid;, score=0.000 total time=   4.6s\n",
      "[CV 2/3] END C=1.0, degree=5, gamma=auto, kernel=sigmoid;, score=0.000 total time=   4.6s\n",
      "[CV 3/3] END C=1.0, degree=5, gamma=auto, kernel=sigmoid;, score=0.000 total time=   4.6s\n",
      "[CV 1/3] END C=1.0, degree=7, gamma=scale, kernel=linear;, score=0.794 total time=   4.3s\n",
      "[CV 2/3] END C=1.0, degree=7, gamma=scale, kernel=linear;, score=0.827 total time=   5.4s\n",
      "[CV 3/3] END C=1.0, degree=7, gamma=scale, kernel=linear;, score=0.827 total time=   4.8s\n",
      "[CV 1/3] END C=1.0, degree=7, gamma=scale, kernel=poly;, score=0.000 total time=   5.1s\n",
      "[CV 2/3] END C=1.0, degree=7, gamma=scale, kernel=poly;, score=0.000 total time=   5.3s\n",
      "[CV 3/3] END C=1.0, degree=7, gamma=scale, kernel=poly;, score=0.000 total time=   5.4s\n",
      "[CV 1/3] END C=1.0, degree=7, gamma=scale, kernel=rbf;, score=0.831 total time=   4.5s\n",
      "[CV 2/3] END C=1.0, degree=7, gamma=scale, kernel=rbf;, score=0.838 total time=   4.3s\n",
      "[CV 3/3] END C=1.0, degree=7, gamma=scale, kernel=rbf;, score=0.848 total time=   4.4s\n",
      "[CV 1/3] END C=1.0, degree=7, gamma=scale, kernel=sigmoid;, score=0.801 total time=   3.4s\n",
      "[CV 2/3] END C=1.0, degree=7, gamma=scale, kernel=sigmoid;, score=0.824 total time=   3.5s\n",
      "[CV 3/3] END C=1.0, degree=7, gamma=scale, kernel=sigmoid;, score=0.834 total time=   3.5s\n",
      "[CV 1/3] END C=1.0, degree=7, gamma=auto, kernel=linear;, score=0.794 total time=   5.0s\n",
      "[CV 2/3] END C=1.0, degree=7, gamma=auto, kernel=linear;, score=0.827 total time=   4.4s\n",
      "[CV 3/3] END C=1.0, degree=7, gamma=auto, kernel=linear;, score=0.827 total time=   4.5s\n",
      "[CV 1/3] END C=1.0, degree=7, gamma=auto, kernel=poly;, score=0.000 total time=   4.2s\n",
      "[CV 2/3] END C=1.0, degree=7, gamma=auto, kernel=poly;, score=0.000 total time=   4.4s\n",
      "[CV 3/3] END C=1.0, degree=7, gamma=auto, kernel=poly;, score=0.000 total time=   4.2s\n",
      "[CV 1/3] END C=1.0, degree=7, gamma=auto, kernel=rbf;, score=0.000 total time=   4.6s\n",
      "[CV 2/3] END C=1.0, degree=7, gamma=auto, kernel=rbf;, score=0.000 total time=   4.7s\n",
      "[CV 3/3] END C=1.0, degree=7, gamma=auto, kernel=rbf;, score=0.000 total time=   4.7s\n",
      "[CV 1/3] END C=1.0, degree=7, gamma=auto, kernel=sigmoid;, score=0.000 total time=   4.7s\n",
      "[CV 2/3] END C=1.0, degree=7, gamma=auto, kernel=sigmoid;, score=0.000 total time=   4.5s\n",
      "[CV 3/3] END C=1.0, degree=7, gamma=auto, kernel=sigmoid;, score=0.000 total time=   4.6s\n",
      "[CV 1/3] END C=1.5, degree=3, gamma=scale, kernel=linear;, score=0.792 total time=   4.5s\n",
      "[CV 2/3] END C=1.5, degree=3, gamma=scale, kernel=linear;, score=0.829 total time=   4.5s\n",
      "[CV 3/3] END C=1.5, degree=3, gamma=scale, kernel=linear;, score=0.826 total time=   4.4s\n",
      "[CV 1/3] END C=1.5, degree=3, gamma=scale, kernel=poly;, score=0.197 total time=   4.9s\n",
      "[CV 2/3] END C=1.5, degree=3, gamma=scale, kernel=poly;, score=0.181 total time=   5.3s\n",
      "[CV 3/3] END C=1.5, degree=3, gamma=scale, kernel=poly;, score=0.177 total time=   5.2s\n",
      "[CV 1/3] END C=1.5, degree=3, gamma=scale, kernel=rbf;, score=0.842 total time=   4.8s\n",
      "[CV 2/3] END C=1.5, degree=3, gamma=scale, kernel=rbf;, score=0.847 total time=   4.9s\n",
      "[CV 3/3] END C=1.5, degree=3, gamma=scale, kernel=rbf;, score=0.861 total time=   4.8s\n",
      "[CV 1/3] END C=1.5, degree=3, gamma=scale, kernel=sigmoid;, score=0.819 total time=   3.4s\n",
      "[CV 2/3] END C=1.5, degree=3, gamma=scale, kernel=sigmoid;, score=0.828 total time=   3.9s\n",
      "[CV 3/3] END C=1.5, degree=3, gamma=scale, kernel=sigmoid;, score=0.827 total time=   3.9s\n",
      "[CV 1/3] END C=1.5, degree=3, gamma=auto, kernel=linear;, score=0.792 total time=   5.6s\n",
      "[CV 2/3] END C=1.5, degree=3, gamma=auto, kernel=linear;, score=0.829 total time=   4.5s\n",
      "[CV 3/3] END C=1.5, degree=3, gamma=auto, kernel=linear;, score=0.826 total time=   4.4s\n",
      "[CV 1/3] END C=1.5, degree=3, gamma=auto, kernel=poly;, score=0.000 total time=   4.3s\n",
      "[CV 2/3] END C=1.5, degree=3, gamma=auto, kernel=poly;, score=0.000 total time=   4.3s\n",
      "[CV 3/3] END C=1.5, degree=3, gamma=auto, kernel=poly;, score=0.000 total time=   4.3s\n",
      "[CV 1/3] END C=1.5, degree=3, gamma=auto, kernel=rbf;, score=0.000 total time=   4.7s\n",
      "[CV 2/3] END C=1.5, degree=3, gamma=auto, kernel=rbf;, score=0.000 total time=   4.7s\n",
      "[CV 3/3] END C=1.5, degree=3, gamma=auto, kernel=rbf;, score=0.000 total time=   4.8s\n",
      "[CV 1/3] END C=1.5, degree=3, gamma=auto, kernel=sigmoid;, score=0.000 total time=   4.6s\n",
      "[CV 2/3] END C=1.5, degree=3, gamma=auto, kernel=sigmoid;, score=0.000 total time=   4.5s\n",
      "[CV 3/3] END C=1.5, degree=3, gamma=auto, kernel=sigmoid;, score=0.000 total time=   4.7s\n",
      "[CV 1/3] END C=1.5, degree=5, gamma=scale, kernel=linear;, score=0.792 total time=   4.7s\n",
      "[CV 2/3] END C=1.5, degree=5, gamma=scale, kernel=linear;, score=0.829 total time=   4.9s\n",
      "[CV 3/3] END C=1.5, degree=5, gamma=scale, kernel=linear;, score=0.826 total time=   4.5s\n",
      "[CV 1/3] END C=1.5, degree=5, gamma=scale, kernel=poly;, score=0.003 total time=   5.4s\n",
      "[CV 2/3] END C=1.5, degree=5, gamma=scale, kernel=poly;, score=0.000 total time=   5.5s\n",
      "[CV 3/3] END C=1.5, degree=5, gamma=scale, kernel=poly;, score=0.003 total time=   5.5s\n",
      "[CV 1/3] END C=1.5, degree=5, gamma=scale, kernel=rbf;, score=0.842 total time=   5.1s\n",
      "[CV 2/3] END C=1.5, degree=5, gamma=scale, kernel=rbf;, score=0.847 total time=   4.9s\n",
      "[CV 3/3] END C=1.5, degree=5, gamma=scale, kernel=rbf;, score=0.861 total time=   4.8s\n",
      "[CV 1/3] END C=1.5, degree=5, gamma=scale, kernel=sigmoid;, score=0.819 total time=   3.7s\n",
      "[CV 2/3] END C=1.5, degree=5, gamma=scale, kernel=sigmoid;, score=0.828 total time=   3.6s\n",
      "[CV 3/3] END C=1.5, degree=5, gamma=scale, kernel=sigmoid;, score=0.827 total time=   3.6s\n",
      "[CV 1/3] END C=1.5, degree=5, gamma=auto, kernel=linear;, score=0.792 total time=   4.4s\n",
      "[CV 2/3] END C=1.5, degree=5, gamma=auto, kernel=linear;, score=0.829 total time=   4.4s\n",
      "[CV 3/3] END C=1.5, degree=5, gamma=auto, kernel=linear;, score=0.826 total time=   4.7s\n",
      "[CV 1/3] END C=1.5, degree=5, gamma=auto, kernel=poly;, score=0.000 total time=   4.2s\n",
      "[CV 2/3] END C=1.5, degree=5, gamma=auto, kernel=poly;, score=0.000 total time=   4.3s\n",
      "[CV 3/3] END C=1.5, degree=5, gamma=auto, kernel=poly;, score=0.000 total time=   4.5s\n",
      "[CV 1/3] END C=1.5, degree=5, gamma=auto, kernel=rbf;, score=0.000 total time=   5.2s\n",
      "[CV 2/3] END C=1.5, degree=5, gamma=auto, kernel=rbf;, score=0.000 total time=   5.1s\n",
      "[CV 3/3] END C=1.5, degree=5, gamma=auto, kernel=rbf;, score=0.000 total time=   5.0s\n",
      "[CV 1/3] END C=1.5, degree=5, gamma=auto, kernel=sigmoid;, score=0.000 total time=   4.9s\n",
      "[CV 2/3] END C=1.5, degree=5, gamma=auto, kernel=sigmoid;, score=0.000 total time=   4.7s\n",
      "[CV 3/3] END C=1.5, degree=5, gamma=auto, kernel=sigmoid;, score=0.000 total time=   4.7s\n",
      "[CV 1/3] END C=1.5, degree=7, gamma=scale, kernel=linear;, score=0.792 total time=   4.4s\n",
      "[CV 2/3] END C=1.5, degree=7, gamma=scale, kernel=linear;, score=0.829 total time=   4.6s\n",
      "[CV 3/3] END C=1.5, degree=7, gamma=scale, kernel=linear;, score=0.826 total time=   4.5s\n",
      "[CV 1/3] END C=1.5, degree=7, gamma=scale, kernel=poly;, score=0.000 total time=   5.3s\n",
      "[CV 2/3] END C=1.5, degree=7, gamma=scale, kernel=poly;, score=0.000 total time=   5.3s\n",
      "[CV 3/3] END C=1.5, degree=7, gamma=scale, kernel=poly;, score=0.000 total time=   5.4s\n",
      "[CV 1/3] END C=1.5, degree=7, gamma=scale, kernel=rbf;, score=0.842 total time=   4.7s\n",
      "[CV 2/3] END C=1.5, degree=7, gamma=scale, kernel=rbf;, score=0.847 total time=   4.8s\n",
      "[CV 3/3] END C=1.5, degree=7, gamma=scale, kernel=rbf;, score=0.861 total time=   4.7s\n",
      "[CV 1/3] END C=1.5, degree=7, gamma=scale, kernel=sigmoid;, score=0.819 total time=   3.5s\n",
      "[CV 2/3] END C=1.5, degree=7, gamma=scale, kernel=sigmoid;, score=0.828 total time=   3.8s\n",
      "[CV 3/3] END C=1.5, degree=7, gamma=scale, kernel=sigmoid;, score=0.827 total time=   3.7s\n",
      "[CV 1/3] END C=1.5, degree=7, gamma=auto, kernel=linear;, score=0.792 total time=   4.5s\n",
      "[CV 2/3] END C=1.5, degree=7, gamma=auto, kernel=linear;, score=0.829 total time=   4.5s\n",
      "[CV 3/3] END C=1.5, degree=7, gamma=auto, kernel=linear;, score=0.826 total time=   4.5s\n",
      "[CV 1/3] END C=1.5, degree=7, gamma=auto, kernel=poly;, score=0.000 total time=   4.4s\n",
      "[CV 2/3] END C=1.5, degree=7, gamma=auto, kernel=poly;, score=0.000 total time=   4.3s\n",
      "[CV 3/3] END C=1.5, degree=7, gamma=auto, kernel=poly;, score=0.000 total time=   4.3s\n",
      "[CV 1/3] END C=1.5, degree=7, gamma=auto, kernel=rbf;, score=0.000 total time=   4.8s\n",
      "[CV 2/3] END C=1.5, degree=7, gamma=auto, kernel=rbf;, score=0.000 total time=   4.7s\n",
      "[CV 3/3] END C=1.5, degree=7, gamma=auto, kernel=rbf;, score=0.000 total time=   5.3s\n",
      "[CV 1/3] END C=1.5, degree=7, gamma=auto, kernel=sigmoid;, score=0.000 total time=   5.2s\n",
      "[CV 2/3] END C=1.5, degree=7, gamma=auto, kernel=sigmoid;, score=0.000 total time=   4.8s\n",
      "[CV 3/3] END C=1.5, degree=7, gamma=auto, kernel=sigmoid;, score=0.000 total time=   4.7s\n",
      "[CV 1/3] END C=2, degree=3, gamma=scale, kernel=linear;, score=0.794 total time=   4.5s\n",
      "[CV 2/3] END C=2, degree=3, gamma=scale, kernel=linear;, score=0.828 total time=   4.5s\n",
      "[CV 3/3] END C=2, degree=3, gamma=scale, kernel=linear;, score=0.826 total time=   4.6s\n",
      "[CV 1/3] END C=2, degree=3, gamma=scale, kernel=poly;, score=0.227 total time=   5.1s\n",
      "[CV 2/3] END C=2, degree=3, gamma=scale, kernel=poly;, score=0.205 total time=   5.0s\n",
      "[CV 3/3] END C=2, degree=3, gamma=scale, kernel=poly;, score=0.194 total time=   5.1s\n",
      "[CV 1/3] END C=2, degree=3, gamma=scale, kernel=rbf;, score=0.850 total time=   4.8s\n",
      "[CV 2/3] END C=2, degree=3, gamma=scale, kernel=rbf;, score=0.856 total time=   5.1s\n",
      "[CV 3/3] END C=2, degree=3, gamma=scale, kernel=rbf;, score=0.867 total time=   4.9s\n",
      "[CV 1/3] END C=2, degree=3, gamma=scale, kernel=sigmoid;, score=0.821 total time=   3.7s\n",
      "[CV 2/3] END C=2, degree=3, gamma=scale, kernel=sigmoid;, score=0.823 total time=   3.7s\n",
      "[CV 3/3] END C=2, degree=3, gamma=scale, kernel=sigmoid;, score=0.829 total time=   3.8s\n",
      "[CV 1/3] END C=2, degree=3, gamma=auto, kernel=linear;, score=0.794 total time=   4.4s\n",
      "[CV 2/3] END C=2, degree=3, gamma=auto, kernel=linear;, score=0.828 total time=   4.9s\n",
      "[CV 3/3] END C=2, degree=3, gamma=auto, kernel=linear;, score=0.826 total time=   4.5s\n",
      "[CV 1/3] END C=2, degree=3, gamma=auto, kernel=poly;, score=0.000 total time=   4.3s\n",
      "[CV 2/3] END C=2, degree=3, gamma=auto, kernel=poly;, score=0.000 total time=   4.3s\n",
      "[CV 3/3] END C=2, degree=3, gamma=auto, kernel=poly;, score=0.000 total time=   4.4s\n",
      "[CV 1/3] END C=2, degree=3, gamma=auto, kernel=rbf;, score=0.000 total time=   4.7s\n",
      "[CV 2/3] END C=2, degree=3, gamma=auto, kernel=rbf;, score=0.000 total time=   4.8s\n",
      "[CV 3/3] END C=2, degree=3, gamma=auto, kernel=rbf;, score=0.000 total time=   5.1s\n",
      "[CV 1/3] END C=2, degree=3, gamma=auto, kernel=sigmoid;, score=0.000 total time=   4.8s\n",
      "[CV 2/3] END C=2, degree=3, gamma=auto, kernel=sigmoid;, score=0.000 total time=   4.7s\n",
      "[CV 3/3] END C=2, degree=3, gamma=auto, kernel=sigmoid;, score=0.000 total time=   5.0s\n",
      "[CV 1/3] END C=2, degree=5, gamma=scale, kernel=linear;, score=0.794 total time=   5.0s\n",
      "[CV 2/3] END C=2, degree=5, gamma=scale, kernel=linear;, score=0.828 total time=   4.6s\n",
      "[CV 3/3] END C=2, degree=5, gamma=scale, kernel=linear;, score=0.826 total time=   4.5s\n",
      "[CV 1/3] END C=2, degree=5, gamma=scale, kernel=poly;, score=0.003 total time=   5.3s\n",
      "[CV 2/3] END C=2, degree=5, gamma=scale, kernel=poly;, score=0.000 total time=   5.2s\n",
      "[CV 3/3] END C=2, degree=5, gamma=scale, kernel=poly;, score=0.005 total time=   5.3s\n",
      "[CV 1/3] END C=2, degree=5, gamma=scale, kernel=rbf;, score=0.850 total time=   4.8s\n",
      "[CV 2/3] END C=2, degree=5, gamma=scale, kernel=rbf;, score=0.856 total time=   4.8s\n",
      "[CV 3/3] END C=2, degree=5, gamma=scale, kernel=rbf;, score=0.867 total time=   4.9s\n",
      "[CV 1/3] END C=2, degree=5, gamma=scale, kernel=sigmoid;, score=0.821 total time=   3.8s\n",
      "[CV 2/3] END C=2, degree=5, gamma=scale, kernel=sigmoid;, score=0.823 total time=   3.6s\n",
      "[CV 3/3] END C=2, degree=5, gamma=scale, kernel=sigmoid;, score=0.829 total time=   4.0s\n",
      "[CV 1/3] END C=2, degree=5, gamma=auto, kernel=linear;, score=0.794 total time=   4.8s\n",
      "[CV 2/3] END C=2, degree=5, gamma=auto, kernel=linear;, score=0.828 total time=   4.6s\n",
      "[CV 3/3] END C=2, degree=5, gamma=auto, kernel=linear;, score=0.826 total time=   4.5s\n",
      "[CV 1/3] END C=2, degree=5, gamma=auto, kernel=poly;, score=0.000 total time=   4.4s\n",
      "[CV 2/3] END C=2, degree=5, gamma=auto, kernel=poly;, score=0.000 total time=   4.3s\n",
      "[CV 3/3] END C=2, degree=5, gamma=auto, kernel=poly;, score=0.000 total time=   4.4s\n",
      "[CV 1/3] END C=2, degree=5, gamma=auto, kernel=rbf;, score=0.000 total time=   4.8s\n",
      "[CV 2/3] END C=2, degree=5, gamma=auto, kernel=rbf;, score=0.000 total time=   4.7s\n",
      "[CV 3/3] END C=2, degree=5, gamma=auto, kernel=rbf;, score=0.000 total time=   4.7s\n",
      "[CV 1/3] END C=2, degree=5, gamma=auto, kernel=sigmoid;, score=0.000 total time=   4.7s\n",
      "[CV 2/3] END C=2, degree=5, gamma=auto, kernel=sigmoid;, score=0.000 total time=   4.6s\n",
      "[CV 3/3] END C=2, degree=5, gamma=auto, kernel=sigmoid;, score=0.000 total time=   4.6s\n",
      "[CV 1/3] END C=2, degree=7, gamma=scale, kernel=linear;, score=0.794 total time=   4.6s\n",
      "[CV 2/3] END C=2, degree=7, gamma=scale, kernel=linear;, score=0.828 total time=   4.5s\n",
      "[CV 3/3] END C=2, degree=7, gamma=scale, kernel=linear;, score=0.826 total time=   4.5s\n",
      "[CV 1/3] END C=2, degree=7, gamma=scale, kernel=poly;, score=0.000 total time=   5.4s\n",
      "[CV 2/3] END C=2, degree=7, gamma=scale, kernel=poly;, score=0.000 total time=   5.7s\n",
      "[CV 3/3] END C=2, degree=7, gamma=scale, kernel=poly;, score=0.000 total time=   5.3s\n",
      "[CV 1/3] END C=2, degree=7, gamma=scale, kernel=rbf;, score=0.850 total time=   5.7s\n",
      "[CV 2/3] END C=2, degree=7, gamma=scale, kernel=rbf;, score=0.856 total time=   4.9s\n",
      "[CV 3/3] END C=2, degree=7, gamma=scale, kernel=rbf;, score=0.867 total time=   4.9s\n",
      "[CV 1/3] END C=2, degree=7, gamma=scale, kernel=sigmoid;, score=0.821 total time=   3.6s\n",
      "[CV 2/3] END C=2, degree=7, gamma=scale, kernel=sigmoid;, score=0.823 total time=   3.7s\n",
      "[CV 3/3] END C=2, degree=7, gamma=scale, kernel=sigmoid;, score=0.829 total time=   3.9s\n",
      "[CV 1/3] END C=2, degree=7, gamma=auto, kernel=linear;, score=0.794 total time=   4.5s\n",
      "[CV 2/3] END C=2, degree=7, gamma=auto, kernel=linear;, score=0.828 total time=   4.6s\n",
      "[CV 3/3] END C=2, degree=7, gamma=auto, kernel=linear;, score=0.826 total time=   4.9s\n",
      "[CV 1/3] END C=2, degree=7, gamma=auto, kernel=poly;, score=0.000 total time=   4.6s\n",
      "[CV 2/3] END C=2, degree=7, gamma=auto, kernel=poly;, score=0.000 total time=   4.6s\n",
      "[CV 3/3] END C=2, degree=7, gamma=auto, kernel=poly;, score=0.000 total time=   4.7s\n",
      "[CV 1/3] END C=2, degree=7, gamma=auto, kernel=rbf;, score=0.000 total time=   4.8s\n",
      "[CV 2/3] END C=2, degree=7, gamma=auto, kernel=rbf;, score=0.000 total time=   4.8s\n",
      "[CV 3/3] END C=2, degree=7, gamma=auto, kernel=rbf;, score=0.000 total time=   4.8s\n",
      "[CV 1/3] END C=2, degree=7, gamma=auto, kernel=sigmoid;, score=0.000 total time=   4.6s\n",
      "[CV 2/3] END C=2, degree=7, gamma=auto, kernel=sigmoid;, score=0.000 total time=   4.5s\n",
      "[CV 3/3] END C=2, degree=7, gamma=auto, kernel=sigmoid;, score=0.000 total time=   5.0s\n",
      "SVC(C=2, probability=True)\n",
      "{'C': 2, 'degree': 3, 'gamma': 'scale', 'kernel': 'rbf'}\n"
     ]
    }
   ],
   "source": [
    "SVM = svm.SVC(probability=True)#probability=True required for soft voting classifier\n",
    "parametrs = {\n",
    "    'C':[1.0,1.5,2,2.5],\n",
    "    'degree': [3,5,7],\n",
    "    'kernel':['linear', 'poly', 'rbf', 'sigmoid'],\n",
    "    'gamma':['scale','auto']\n",
    "}\n",
    "\n",
    "gs_clf_svc = GridSearchCV(SVM,parametrs,cv=3,scoring='f1',verbose=3)\n",
    "gs_clf_svc.fit(X_train, y_train)\n",
    "print(gs_clf_svc.best_estimator_)\n",
    "print(gs_clf_svc.best_params_)"
   ]
  },
  {
   "cell_type": "code",
   "execution_count": 163,
   "metadata": {},
   "outputs": [
    {
     "name": "stdout",
     "output_type": "stream",
     "text": [
      "0.8278457196613358\n"
     ]
    }
   ],
   "source": [
    "print(gs_clf_svc.score(X_test,y_test))"
   ]
  },
  {
   "cell_type": "code",
   "execution_count": 164,
   "metadata": {},
   "outputs": [
    {
     "data": {
      "image/png": "[encoded data removed]",
      "text/plain": [
       "<Figure size 432x288 with 2 Axes>"
      ]
     },
     "metadata": {
      "needs_background": "light"
     },
     "output_type": "display_data"
    }
   ],
   "source": [
    "from sklearn.metrics import confusion_matrix\n",
    "mat = confusion_matrix(y_test,gs_clf_svc.predict(X_test))\n",
    "sns.heatmap(mat.T, square = True, annot=True, fmt = \"d\")\n",
    "plt.xlabel(\"true labels\")\n",
    "plt.ylabel(\"predicted label\")\n",
    "plt.show()"
   ]
  },
  {
   "cell_type": "markdown",
   "metadata": {},
   "source": [
    "## 2. Naive bayes"
   ]
  },
  {
   "cell_type": "markdown",
   "metadata": {},
   "source": [
    "### Fine tune alpha and fit_prior params"
   ]
  },
  {
   "cell_type": "code",
   "execution_count": 165,
   "metadata": {},
   "outputs": [
    {
     "name": "stdout",
     "output_type": "stream",
     "text": [
      "cv = 3:  {'alpha': 0.45, 'fit_prior': True}\n",
      "0.8776508972267536\n",
      "cv = 10:  {'alpha': 0.5, 'fit_prior': True}\n",
      "0.8776508972267536\n"
     ]
    }
   ],
   "source": [
    "clf = naive_bayes.MultinomialNB()\n",
    "parametrs = {\n",
    "    'alpha':[0.001,0.05,0.01,0.45,0.5,0.75,1],\n",
    "    'fit_prior':[False,True]\n",
    "}\n",
    "gs_mnb_clf = GridSearchCV(clf,parametrs,cv=3,scoring='f1')\n",
    "gs_mnb_clf.fit(X_train, y_train)\n",
    "print(\"cv = 3: \",gs_mnb_clf.best_params_)\n",
    "print(gs_mnb_clf.score(X_test,y_test))\n",
    "\n",
    "gs_mnb_clf = GridSearchCV(clf,parametrs,cv=10,scoring='f1')\n",
    "gs_mnb_clf.fit(X_train, y_train)\n",
    "print(\"cv = 10: \",gs_mnb_clf.best_params_)\n",
    "print(gs_mnb_clf.score(X_test,y_test))"
   ]
  },
  {
   "cell_type": "markdown",
   "metadata": {},
   "source": [
    "### Let's compare confusion matricies  "
   ]
  },
  {
   "cell_type": "code",
   "execution_count": 166,
   "metadata": {},
   "outputs": [
    {
     "data": {
      "image/png": "[encoded data removed]",
      "text/plain": [
       "<Figure size 432x288 with 2 Axes>"
      ]
     },
     "metadata": {
      "needs_background": "light"
     },
     "output_type": "display_data"
    },
    {
     "data": {
      "image/png": "[encoded data removed]",
      "text/plain": [
       "<Figure size 432x288 with 2 Axes>"
      ]
     },
     "metadata": {
      "needs_background": "light"
     },
     "output_type": "display_data"
    }
   ],
   "source": [
    "from sklearn.metrics import confusion_matrix\n",
    "\n",
    "\n",
    "mat = confusion_matrix(y_test,gs_clf_svc.predict(X_test))\n",
    "sns.heatmap(mat.T, square = True, annot=True, fmt = \"d\")\n",
    "plt.title(\"SupportVectorClassifier\")\n",
    "plt.xlabel(\"true labels\")\n",
    "plt.ylabel(\"predicted label\")\n",
    "plt.show()\n",
    "\n",
    "mat = confusion_matrix(y_test,gs_mnb_clf.predict(X_test))\n",
    "sns.heatmap(mat.T, square = True, annot=True, fmt = \"d\")\n",
    "plt.title(\"MultinomialNB\")\n",
    "plt.xlabel(\"true labels\")\n",
    "plt.ylabel(\"predicted label\")\n",
    "plt.show()"
   ]
  },
  {
   "cell_type": "markdown",
   "metadata": {},
   "source": [
    "### Let's use voting classifer: models architecture different so results should be better "
   ]
  },
  {
   "cell_type": "code",
   "execution_count": 167,
   "metadata": {},
   "outputs": [
    {
     "name": "stdout",
     "output_type": "stream",
     "text": [
      "0.8915871639202081\n",
      "voting classifier, cv f1-score 0.8724575222122531\n",
      "Multinominal Naive Bayes, cv f1-score 0.8442034735375227\n",
      "SVC, cv f1-score 0.8578358722196575\n"
     ]
    }
   ],
   "source": [
    "eclf = VotingClassifier(estimators=[('svc', gs_clf_svc.best_estimator_), ('mnb', gs_mnb_clf.best_estimator_)],voting='soft')\n",
    "eclf = eclf.fit(X_train, y_train)\n",
    "y_pred = eclf.predict(X_test)\n",
    "print(f1_score(y_test,y_pred))\n",
    "print(\"voting classifier, cv f1-score\",cross_val_score(eclf,X_train,y_train,cv=3,scoring='f1').mean())\n",
    "print(\"Multinominal Naive Bayes, cv f1-score\",cross_val_score(gs_mnb_clf,X_train,y_train,cv=3,scoring='f1').mean())\n",
    "print(\"SVC, cv f1-score\",cross_val_score(gs_clf_svc.best_estimator_,X_train,y_train,cv=3,scoring='f1').mean())"
   ]
  },
  {
   "cell_type": "markdown",
   "metadata": {},
   "source": [
    "Yes! That is true."
   ]
  },
  {
   "cell_type": "code",
   "execution_count": 168,
   "metadata": {},
   "outputs": [
    {
     "data": {
      "image/png": "[encoded data removed]",
      "text/plain": [
       "<Figure size 432x288 with 2 Axes>"
      ]
     },
     "metadata": {
      "needs_background": "light"
     },
     "output_type": "display_data"
    }
   ],
   "source": [
    "mat = confusion_matrix(y_test,eclf.predict(X_test))\n",
    "sns.heatmap(mat.T, square = True, annot=True, fmt = \"d\")\n",
    "plt.title(\"VotingClassifier\")\n",
    "plt.xlabel(\"true labels\")\n",
    "plt.ylabel(\"predicted label\")\n",
    "plt.show()"
   ]
  },
  {
   "cell_type": "markdown",
   "metadata": {},
   "source": [
    "## Make test predictions with best model "
   ]
  },
  {
   "cell_type": "code",
   "execution_count": 103,
   "metadata": {},
   "outputs": [
    {
     "name": "stdout",
     "output_type": "stream",
     "text": [
      "                                               title  is_fake\n",
      "0  Роскомнадзор представил реестр сочетаний цвето...        1\n",
      "1  Ночью под Минском на президентской горе Белара...        1\n",
      "2  Бывший спичрайтер Юрия Лозы рассказал о трудно...        1\n",
      "3  Сельская церковь, собравшая рекордно низкое ко...        1\n",
      "4  Акции Google рухнули после объявления о переза...        0\n"
     ]
    },
    {
     "data": {
      "text/plain": [
       "0    Роскомнадзор представил реестр сочетаний цвето...\n",
       "1    Ночью под Минском на президентской горе Белара...\n",
       "2    Бывший спичрайтер Юрия Лозы рассказал о трудно...\n",
       "3    Сельская церковь, собравшая рекордно низкое ко...\n",
       "4    Акции Google рухнули после объявления о переза...\n",
       "Name: title, dtype: object"
      ]
     },
     "execution_count": 103,
     "metadata": {},
     "output_type": "execute_result"
    }
   ],
   "source": [
    "data =  pd.read_csv(\"dataset/test.tsv\",sep='\\t',header=0)\n",
    "print(data.head())\n",
    "X_source_test = data['title']\n",
    "X_source_test.head()"
   ]
  },
  {
   "cell_type": "markdown",
   "metadata": {},
   "source": [
    "####  String processing and Tf-idf again"
   ]
  },
  {
   "cell_type": "code",
   "execution_count": 64,
   "metadata": {},
   "outputs": [],
   "source": [
    "X_test_processed = X_source_test.apply(preprocess_text_with_stopwords)\n",
    "df = pd.DataFrame()\n",
    "df['title'] = X_test_processed\n",
    "df.to_csv('processed stemmed test text with stop words.csv')"
   ]
  },
  {
   "cell_type": "code",
   "execution_count": 104,
   "metadata": {},
   "outputs": [
    {
     "data": {
      "text/plain": [
       "0    роскомнадзор представлять реестр сочетание цве...\n",
       "1    ночь под минск на президентский гора беларашмо...\n",
       "2    бывший спичрайтер юрий лоза рассказывать о тру...\n",
       "3    сельский церковь собирать рекордно низкий коли...\n",
       "4    акция google рухнуть после объявление о переза...\n",
       "Name: title, dtype: object"
      ]
     },
     "execution_count": 104,
     "metadata": {},
     "output_type": "execute_result"
    }
   ],
   "source": [
    "X_test_processed = pd.read_csv('processed stemmed test text with stop words.csv')['title']\n",
    "X_test_processed.head()"
   ]
  },
  {
   "cell_type": "code",
   "execution_count": 105,
   "metadata": {},
   "outputs": [
    {
     "name": "stderr",
     "output_type": "stream",
     "text": [
      "C:\\Users\\dyush\\AppData\\Local\\Programs\\Python\\Python38\\lib\\site-packages\\sklearn\\utils\\deprecation.py:87: FutureWarning: Function get_feature_names is deprecated; get_feature_names is deprecated in 1.0 and will be removed in 1.2. Please use get_feature_names_out instead.\n",
      "  warnings.warn(msg, category=FutureWarning)\n"
     ]
    }
   ],
   "source": [
    "vectorizer = CountVectorizer()\n",
    "X_all = vectorizer.fit_transform(X)\n",
    "feature_names = vectorizer.get_feature_names()\n",
    "X_test = vectorizer.transform(X_test_processed)"
   ]
  },
  {
   "cell_type": "markdown",
   "metadata": {},
   "source": [
    "#### Apply model and make predictions  (best f1-score - Voting Classifier (SVC + MNB))"
   ]
  },
  {
   "cell_type": "code",
   "execution_count": 106,
   "metadata": {},
   "outputs": [
    {
     "data": {
      "text/plain": [
       "VotingClassifier(estimators=[('svc', SVC(C=2, probability=True)),\n",
       "                             ('mnb', MultinomialNB(alpha=0.5))],\n",
       "                 voting='soft')"
      ]
     },
     "execution_count": 106,
     "metadata": {},
     "output_type": "execute_result"
    }
   ],
   "source": [
    "eclf.fit(X_all,y)"
   ]
  },
  {
   "cell_type": "code",
   "execution_count": 107,
   "metadata": {},
   "outputs": [],
   "source": [
    "y_pred = eclf.predict(X_test)"
   ]
  },
  {
   "cell_type": "markdown",
   "metadata": {},
   "source": [
    "####  Wtite prediction results:  "
   ]
  },
  {
   "cell_type": "code",
   "execution_count": 108,
   "metadata": {},
   "outputs": [],
   "source": [
    "data['is_fake'] = y_pred\n",
    "data.to_csv(\"predictions.tsv\",sep='\\t',index=False)"
   ]
  }
 ],
 "metadata": {
  "interpreter": {
   "hash": "fbdf9b82f6a4cb6fde8f14a7f4d0d46b9623a7fe425d21188818cc0f09458349"
  },
  "kernelspec": {
   "display_name": "Python 3.8.0 64-bit",
   "language": "python",
   "name": "python3"
  },
  "language_info": {
   "codemirror_mode": {
    "name": "ipython",
    "version": 3
   },
   "file_extension": ".py",
   "mimetype": "text/x-python",
   "name": "python",
   "nbconvert_exporter": "python",
   "pygments_lexer": "ipython3",
   "version": "3.8.0"
  },
  "orig_nbformat": 4
 },
 "nbformat": 4,
 "nbformat_minor": 2
}
